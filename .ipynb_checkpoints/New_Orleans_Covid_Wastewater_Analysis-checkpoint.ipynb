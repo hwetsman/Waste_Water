{
 "cells": [
  {
   "cell_type": "markdown",
   "id": "a3cc1df9",
   "metadata": {},
   "source": [
    "# Waste Water\n",
    "Tracking viral load in waste water is leading indicator of coming Covid cases. New Orleans has been slow to start waste water testing, but there is now enough days of data for some analysis."
   ]
  },
  {
   "cell_type": "code",
   "execution_count": 187,
   "id": "7ee8f2dc",
   "metadata": {},
   "outputs": [],
   "source": [
    "#import necessary modules\n",
    "import requests\n",
    "import pandas as pd\n",
    "import matplotlib.pyplot as plt\n",
    "import numpy as np"
   ]
  },
  {
   "cell_type": "code",
   "execution_count": 188,
   "id": "b5c4bc5a",
   "metadata": {},
   "outputs": [],
   "source": [
    "def Is_Enough(df):\n",
    "    \"\"\"Takes a df and returns if there is enough data to plot\"\"\"\n",
    "    end_dates = df.date_end.tolist()\n",
    "    start_dates = df.date_start.tolist()\n",
    "    first_day = str(np.array(start_dates).min()).split(' ')[0]\n",
    "    enough = False\n",
    "    for dat in end_dates:\n",
    "        if dat in start_dates:\n",
    "            enough = True\n",
    "    return enough"
   ]
  },
  {
   "cell_type": "code",
   "execution_count": 189,
   "id": "7e519eec",
   "metadata": {},
   "outputs": [
    {
     "data": {
      "text/html": [
       "<div>\n",
       "<style scoped>\n",
       "    .dataframe tbody tr th:only-of-type {\n",
       "        vertical-align: middle;\n",
       "    }\n",
       "\n",
       "    .dataframe tbody tr th {\n",
       "        vertical-align: top;\n",
       "    }\n",
       "\n",
       "    .dataframe thead th {\n",
       "        text-align: right;\n",
       "    }\n",
       "</style>\n",
       "<table border=\"1\" class=\"dataframe\">\n",
       "  <thead>\n",
       "    <tr style=\"text-align: right;\">\n",
       "      <th></th>\n",
       "      <th>wwtp_jurisdiction</th>\n",
       "      <th>wwtp_id</th>\n",
       "      <th>reporting_jurisdiction</th>\n",
       "      <th>sample_location</th>\n",
       "      <th>key_plot_id</th>\n",
       "      <th>county_names</th>\n",
       "      <th>county_fips</th>\n",
       "      <th>population_served</th>\n",
       "      <th>date_start</th>\n",
       "      <th>date_end</th>\n",
       "      <th>ptc_15d</th>\n",
       "      <th>detect_prop_15d</th>\n",
       "    </tr>\n",
       "  </thead>\n",
       "  <tbody>\n",
       "    <tr>\n",
       "      <th>0</th>\n",
       "      <td>Louisiana</td>\n",
       "      <td>727</td>\n",
       "      <td>Louisiana</td>\n",
       "      <td>Treatment plant</td>\n",
       "      <td>CDC_la_727_Treatment plant_raw wastewater</td>\n",
       "      <td>Orleans</td>\n",
       "      <td>22071</td>\n",
       "      <td>380000</td>\n",
       "      <td>2022-02-11</td>\n",
       "      <td>2022-02-25</td>\n",
       "      <td>-89.0</td>\n",
       "      <td>100.0</td>\n",
       "    </tr>\n",
       "    <tr>\n",
       "      <th>1</th>\n",
       "      <td>Louisiana</td>\n",
       "      <td>727</td>\n",
       "      <td>Louisiana</td>\n",
       "      <td>Treatment plant</td>\n",
       "      <td>CDC_la_727_Treatment plant_raw wastewater</td>\n",
       "      <td>Orleans</td>\n",
       "      <td>22071</td>\n",
       "      <td>380000</td>\n",
       "      <td>2022-02-08</td>\n",
       "      <td>2022-02-22</td>\n",
       "      <td>-91.0</td>\n",
       "      <td>100.0</td>\n",
       "    </tr>\n",
       "    <tr>\n",
       "      <th>2</th>\n",
       "      <td>Louisiana</td>\n",
       "      <td>792</td>\n",
       "      <td>Louisiana</td>\n",
       "      <td>Treatment plant</td>\n",
       "      <td>CDC_la_792_Treatment plant_raw wastewater</td>\n",
       "      <td>Orleans</td>\n",
       "      <td>22071</td>\n",
       "      <td>380000</td>\n",
       "      <td>2022-03-03</td>\n",
       "      <td>2022-03-17</td>\n",
       "      <td>-87.0</td>\n",
       "      <td>60.0</td>\n",
       "    </tr>\n",
       "    <tr>\n",
       "      <th>3</th>\n",
       "      <td>Louisiana</td>\n",
       "      <td>792</td>\n",
       "      <td>Louisiana</td>\n",
       "      <td>Treatment plant</td>\n",
       "      <td>CDC_la_792_Treatment plant_raw wastewater</td>\n",
       "      <td>Orleans</td>\n",
       "      <td>22071</td>\n",
       "      <td>380000</td>\n",
       "      <td>2022-01-28</td>\n",
       "      <td>2022-02-11</td>\n",
       "      <td>NaN</td>\n",
       "      <td>NaN</td>\n",
       "    </tr>\n",
       "    <tr>\n",
       "      <th>4</th>\n",
       "      <td>Louisiana</td>\n",
       "      <td>727</td>\n",
       "      <td>Louisiana</td>\n",
       "      <td>Treatment plant</td>\n",
       "      <td>CDC_la_727_Treatment plant_raw wastewater</td>\n",
       "      <td>Orleans</td>\n",
       "      <td>22071</td>\n",
       "      <td>380000</td>\n",
       "      <td>2022-02-04</td>\n",
       "      <td>2022-02-18</td>\n",
       "      <td>NaN</td>\n",
       "      <td>100.0</td>\n",
       "    </tr>\n",
       "  </tbody>\n",
       "</table>\n",
       "</div>"
      ],
      "text/plain": [
       "  wwtp_jurisdiction  wwtp_id reporting_jurisdiction  sample_location  \\\n",
       "0         Louisiana      727              Louisiana  Treatment plant   \n",
       "1         Louisiana      727              Louisiana  Treatment plant   \n",
       "2         Louisiana      792              Louisiana  Treatment plant   \n",
       "3         Louisiana      792              Louisiana  Treatment plant   \n",
       "4         Louisiana      727              Louisiana  Treatment plant   \n",
       "\n",
       "                                 key_plot_id county_names  county_fips  \\\n",
       "0  CDC_la_727_Treatment plant_raw wastewater      Orleans        22071   \n",
       "1  CDC_la_727_Treatment plant_raw wastewater      Orleans        22071   \n",
       "2  CDC_la_792_Treatment plant_raw wastewater      Orleans        22071   \n",
       "3  CDC_la_792_Treatment plant_raw wastewater      Orleans        22071   \n",
       "4  CDC_la_727_Treatment plant_raw wastewater      Orleans        22071   \n",
       "\n",
       "   population_served  date_start    date_end  ptc_15d  detect_prop_15d  \n",
       "0             380000  2022-02-11  2022-02-25    -89.0            100.0  \n",
       "1             380000  2022-02-08  2022-02-22    -91.0            100.0  \n",
       "2             380000  2022-03-03  2022-03-17    -87.0             60.0  \n",
       "3             380000  2022-01-28  2022-02-11      NaN              NaN  \n",
       "4             380000  2022-02-04  2022-02-18      NaN            100.0  "
      ]
     },
     "execution_count": 189,
     "metadata": {},
     "output_type": "execute_result"
    }
   ],
   "source": [
    "#get data\n",
    "#url = 'https://data.cdc.gov/resource/2ew6-ywp6.json'\n",
    "#states = ['Louisiana','Florida']\n",
    "url = 'https://data.cdc.gov/resource/2ew6-ywp6.json?county_names=Orleans'\n",
    "data = requests.get(url)\n",
    "df = pd.read_json(data.content)\n",
    "df.head()"
   ]
  },
  {
   "cell_type": "code",
   "execution_count": 190,
   "id": "8f6041dc",
   "metadata": {},
   "outputs": [],
   "source": [
    "#condition dataframe\n",
    "df = df[['wwtp_id', 'county_names',  'date_start', 'date_end', 'ptc_15d']]\n",
    "df = df[~df.ptc_15d.isna()]\n",
    "df.date_start = pd.to_datetime(df.date_start, format='%Y-%m-%d')\n",
    "df.date_end = pd.to_datetime(df.date_end, format='%Y-%m-%d')\n",
    "df.sort_values('date_end', inplace=True, axis=0)\n",
    "df.reset_index(inplace=True, drop=True)"
   ]
  },
  {
   "cell_type": "code",
   "execution_count": 191,
   "id": "97fcfbc4",
   "metadata": {},
   "outputs": [],
   "source": [
    "#create dictionary of plants\n",
    "plants = list(set(df.wwtp_id.tolist()))\n",
    "plant_dict = {}\n",
    "for plant in plants:\n",
    "    plant_dict[plant] = df[df.wwtp_id == plant]"
   ]
  },
  {
   "cell_type": "code",
   "execution_count": 192,
   "id": "9b272743",
   "metadata": {},
   "outputs": [
    {
     "data": {
      "image/png": "[encoded data removed]",
      "text/plain": [
       "<Figure size 864x360 with 1 Axes>"
      ]
     },
     "metadata": {
      "needs_background": "light"
     },
     "output_type": "display_data"
    },
    {
     "data": {
      "image/png": "[encoded data removed]",
      "text/plain": [
       "<Figure size 864x360 with 1 Axes>"
      ]
     },
     "metadata": {
      "needs_background": "light"
     },
     "output_type": "display_data"
    }
   ],
   "source": [
    "# for each plant, analyze data and produce a graph\n",
    "for plant in plant_dict:\n",
    "    dfa = plant_dict.get(plant)\n",
    "    dfa.reset_index(drop=True, inplace=True)\n",
    "    dfb=dfa.copy()\n",
    "\n",
    "    #is there enough data to move forward?\n",
    "    enough = Is_Enough(dfa)\n",
    "    if not enough:\n",
    "        print(f'There is not enough data from plant{plant} to analyze.')\n",
    "        break\n",
    "\n",
    "    # calculate quantity for first end date forward as start\n",
    "    idx_first = dfa[dfa.date_start == dfa.date_end.min()].index[0]\n",
    "    for i in range(idx_first, dfa.index.max()+1, 1):\n",
    "        if i == idx_first:\n",
    "            dfb.loc[i, 'start_quantity'] = 10000\n",
    "        else:\n",
    "            base = dfb.loc[i-1, 'start_quantity']\n",
    "            percent_change = dfa.loc[i, 'ptc_15d']\n",
    "            if percent_change == -100:\n",
    "                percent_change = -99\n",
    "            delta = percent_change/100*base\n",
    "            new_total = base+delta\n",
    "            dfb.loc[i, 'start_quantity'] = int(new_total)\n",
    "\n",
    "    # infer old values\n",
    "    to_calculate = dfb[~dfb.start_quantity.isna()].date_start.tolist()\n",
    "    for dat in to_calculate:\n",
    "        calc_idx = dfa[dfa.date_end == dat].index[0]\n",
    "        base_idx = dfa[dfa.date_start == dat].index[0]\n",
    "        change_factor = dfa.loc[calc_idx, 'ptc_15d']\n",
    "        if change_factor == -100:\n",
    "            change_factor = -99\n",
    "        base = dfb.loc[base_idx, 'start_quantity']\n",
    "        start_amt = base/(1+(change_factor/100))\n",
    "        dfb.loc[calc_idx, 'start_quantity'] = start_amt\n",
    "    \n",
    "    # create figure\n",
    "    fig = plt.figure(figsize=(12, 5))\n",
    "    X = dfb.date_start.tolist()\n",
    "    Y = dfb.start_quantity.tolist()\n",
    "    plt.plot(X, Y,label=plant)\n",
    "    plt.title(f'New Orleans Covid Waste Water Testing Data from {first_day}')\n",
    "    plt.xlabel('Date')\n",
    "    plt.ylabel('Viral Load (not to actual scale)')\n",
    "    plt.legend()\n",
    "    plt.xticks(rotation=70)\n"
   ]
  },
  {
   "cell_type": "code",
   "execution_count": null,
   "id": "cb8bb5b6",
   "metadata": {},
   "outputs": [],
   "source": []
  }
 ],
 "metadata": {
  "kernelspec": {
   "display_name": "Python 3 (ipykernel)",
   "language": "python",
   "name": "python3"
  },
  "language_info": {
   "codemirror_mode": {
    "name": "ipython",
    "version": 3
   },
   "file_extension": ".py",
   "mimetype": "text/x-python",
   "name": "python",
   "nbconvert_exporter": "python",
   "pygments_lexer": "ipython3",
   "version": "3.8.12"
  }
 },
 "nbformat": 4,
 "nbformat_minor": 5
}
